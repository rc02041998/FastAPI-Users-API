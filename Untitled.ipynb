{
 "cells": [
  {
   "cell_type": "markdown",
   "id": "fb0c6a01",
   "metadata": {},
   "source": [
    "## 1. Reverse a string"
   ]
  },
  {
   "cell_type": "code",
   "execution_count": 8,
   "id": "3a691c1e",
   "metadata": {},
   "outputs": [
    {
     "name": "stdout",
     "output_type": "stream",
     "text": [
      "yeknoMolleh\n"
     ]
    }
   ],
   "source": [
    "def reverse_string(s):\n",
    "    rev = \"\"\n",
    "    for char in s:\n",
    "        rev = char + rev\n",
    "    return rev\n",
    "\n",
    "print(reverse_string(\"helloMonkey\"))"
   ]
  },
  {
   "cell_type": "markdown",
   "id": "7bef81ab",
   "metadata": {},
   "source": [
    "## 2. Reverse a number"
   ]
  },
  {
   "cell_type": "code",
   "execution_count": 7,
   "id": "d0128af1",
   "metadata": {},
   "outputs": [
    {
     "name": "stdout",
     "output_type": "stream",
     "text": [
      "654321\n"
     ]
    }
   ],
   "source": [
    "def rev_num(n):\n",
    "    rev=0\n",
    "    while n>0:\n",
    "        rev=rev*10+ n%10\n",
    "        n=n//10\n",
    "    return rev\n",
    "print(rev_num(123456))\n",
    "        "
   ]
  },
  {
   "cell_type": "markdown",
   "id": "18e2efd1",
   "metadata": {},
   "source": [
    "## 3. Factorial of number using for loop"
   ]
  },
  {
   "cell_type": "code",
   "execution_count": 10,
   "id": "e62ea2d8",
   "metadata": {},
   "outputs": [
    {
     "name": "stdout",
     "output_type": "stream",
     "text": [
      "120\n"
     ]
    }
   ],
   "source": [
    "def factorial(n):\n",
    "    fact=1\n",
    "    for i in range(1,n+1):\n",
    "        fact=fact*i\n",
    "    return fact\n",
    "print(factorial(5))"
   ]
  },
  {
   "cell_type": "markdown",
   "id": "5041b689",
   "metadata": {},
   "source": [
    "## 4. Factorial of number using while loop"
   ]
  },
  {
   "cell_type": "code",
   "execution_count": 25,
   "id": "c8196ebf",
   "metadata": {},
   "outputs": [
    {
     "name": "stdout",
     "output_type": "stream",
     "text": [
      "120\n"
     ]
    }
   ],
   "source": [
    "def fact(n):\n",
    "    result=1\n",
    "    while n>0:\n",
    "        result=result*n\n",
    "        n=n-1\n",
    "    return result\n",
    "print(fact(5))"
   ]
  },
  {
   "cell_type": "markdown",
   "id": "a12cf2df",
   "metadata": {},
   "source": [
    "## 4.1. Factorial of number using recursion\n"
   ]
  },
  {
   "cell_type": "code",
   "execution_count": 105,
   "id": "7698bf2f",
   "metadata": {},
   "outputs": [
    {
     "name": "stdout",
     "output_type": "stream",
     "text": [
      "120\n"
     ]
    }
   ],
   "source": [
    "def fact(n):\n",
    "    if n==0 or n==1:\n",
    "        return 1\n",
    "    else:\n",
    "        return n*fact(n-1)\n",
    "print(fact(5))"
   ]
  },
  {
   "cell_type": "markdown",
   "id": "507ee577",
   "metadata": {},
   "source": [
    "## 5. Fibonacci series "
   ]
  },
  {
   "cell_type": "code",
   "execution_count": 26,
   "id": "22267c01",
   "metadata": {},
   "outputs": [
    {
     "name": "stdout",
     "output_type": "stream",
     "text": [
      "[0, 1, 1, 2, 3, 5]\n"
     ]
    }
   ],
   "source": [
    "def fib(n):\n",
    "    if n==0:\n",
    "        return []\n",
    "    if n==1:\n",
    "        return [0]\n",
    "    result=[0,1]\n",
    "    while len(result)<n:\n",
    "        result.append(result[-1]+result[-2])\n",
    "    return result\n",
    "print(fib(6))\n"
   ]
  },
  {
   "cell_type": "markdown",
   "id": "f7cf5736",
   "metadata": {},
   "source": [
    "## 5.1 Fibonacci number using recursion"
   ]
  },
  {
   "cell_type": "code",
   "execution_count": 109,
   "id": "756f9371",
   "metadata": {},
   "outputs": [
    {
     "name": "stdout",
     "output_type": "stream",
     "text": [
      "13\n"
     ]
    }
   ],
   "source": [
    "def fib(n):\n",
    "    if n<=1:\n",
    "        return n\n",
    "    else:\n",
    "        return fib(n-1)+fib(n-2)\n",
    "print(fib(7))"
   ]
  },
  {
   "cell_type": "markdown",
   "id": "f92eda3e",
   "metadata": {},
   "source": [
    "## 6. Check if a number is Prime "
   ]
  },
  {
   "cell_type": "code",
   "execution_count": 33,
   "id": "a1e29417",
   "metadata": {},
   "outputs": [
    {
     "name": "stdout",
     "output_type": "stream",
     "text": [
      "True\n"
     ]
    }
   ],
   "source": [
    "def prime(n):\n",
    "    if n<2:\n",
    "        return False\n",
    "    for i in range(2,n):\n",
    "        if n%i==0:\n",
    "            return False\n",
    "    return True\n",
    "print(prime(17))\n",
    "    "
   ]
  },
  {
   "cell_type": "markdown",
   "id": "dce92793",
   "metadata": {},
   "source": [
    "## 7. Check if string is palindrome"
   ]
  },
  {
   "cell_type": "code",
   "execution_count": 70,
   "id": "c50a3e96",
   "metadata": {},
   "outputs": [
    {
     "name": "stdout",
     "output_type": "stream",
     "text": [
      "False\n"
     ]
    }
   ],
   "source": [
    "def palindrome(s):\n",
    "    rev=\"\"\n",
    "    original=s\n",
    "    for char in s:\n",
    "        rev=char+rev\n",
    "    if rev==original:\n",
    "        return True\n",
    "    return False\n",
    "print(palindrome(\"abcd\"))"
   ]
  },
  {
   "cell_type": "markdown",
   "id": "c2fcc3b4",
   "metadata": {},
   "source": [
    "## 8. Check a number is palindrome"
   ]
  },
  {
   "cell_type": "code",
   "execution_count": 46,
   "id": "f843177c",
   "metadata": {},
   "outputs": [
    {
     "name": "stdout",
     "output_type": "stream",
     "text": [
      "True\n"
     ]
    }
   ],
   "source": [
    "def palindrome(num):\n",
    "    rev=0\n",
    "    original=num\n",
    "    while num>0:\n",
    "        rev=rev*10+num%10\n",
    "        num=num//10\n",
    "    if rev==original:\n",
    "        return True\n",
    "    return False\n",
    "print(palindrome(123454321))"
   ]
  },
  {
   "cell_type": "markdown",
   "id": "983597e4",
   "metadata": {},
   "source": [
    "## 9. Find the GCD of two numbers"
   ]
  },
  {
   "cell_type": "code",
   "execution_count": 58,
   "id": "67251b50",
   "metadata": {},
   "outputs": [
    {
     "name": "stdout",
     "output_type": "stream",
     "text": [
      "3\n"
     ]
    }
   ],
   "source": [
    "def gcd(a,b):\n",
    "    \n",
    "    while b:\n",
    "        a,b=b,a%b\n",
    "    return a\n",
    "    \n",
    "print(gcd(12,9))"
   ]
  },
  {
   "cell_type": "markdown",
   "id": "ea2c4e48",
   "metadata": {},
   "source": [
    "## 10. Find LCM of two numbers"
   ]
  },
  {
   "cell_type": "code",
   "execution_count": 61,
   "id": "0068f55c",
   "metadata": {},
   "outputs": [
    {
     "name": "stdout",
     "output_type": "stream",
     "text": [
      "4\n"
     ]
    }
   ],
   "source": [
    "def lcm(a,b):\n",
    "    return(a*b)//gcd(a,b)\n",
    "def gcd(a,b):\n",
    "    while b:\n",
    "        a,b=b,a%b\n",
    "    return a\n",
    "print(lcm(2,4))"
   ]
  },
  {
   "cell_type": "markdown",
   "id": "d3ff440d",
   "metadata": {},
   "source": [
    "## 11. Sum of digit of given number"
   ]
  },
  {
   "cell_type": "code",
   "execution_count": 63,
   "id": "4fa1d9ef",
   "metadata": {},
   "outputs": [
    {
     "name": "stdout",
     "output_type": "stream",
     "text": [
      "15\n"
     ]
    }
   ],
   "source": [
    "def sum(num):\n",
    "    sum=0\n",
    "    while num>0:\n",
    "        sum=sum+num%10\n",
    "        num=num//10\n",
    "    return sum\n",
    "print(sum(12345))"
   ]
  },
  {
   "cell_type": "markdown",
   "id": "9552ecb3",
   "metadata": {},
   "source": [
    "## 12. Find the smallest element in a list"
   ]
  },
  {
   "cell_type": "code",
   "execution_count": 72,
   "id": "d17bb6c1",
   "metadata": {},
   "outputs": [
    {
     "name": "stdout",
     "output_type": "stream",
     "text": [
      "3\n"
     ]
    }
   ],
   "source": [
    "def smallest(list):\n",
    "    min=list[0]\n",
    "    for num in list:\n",
    "        if num<min:\n",
    "            min=num\n",
    "    return min\n",
    "\n",
    "print(smallest([5,7,9,8,6,3]))"
   ]
  },
  {
   "cell_type": "markdown",
   "id": "d9f31740",
   "metadata": {},
   "source": [
    "## 13. Find the greatest element in a list"
   ]
  },
  {
   "cell_type": "code",
   "execution_count": 73,
   "id": "f11676f1",
   "metadata": {},
   "outputs": [
    {
     "name": "stdout",
     "output_type": "stream",
     "text": [
      "9\n"
     ]
    }
   ],
   "source": [
    "def greatest(list):\n",
    "    max=list[0]\n",
    "    for num in list:\n",
    "        if num>max:\n",
    "            max=num\n",
    "    return max\n",
    "\n",
    "print(greatest([5,7,9,8,6,3]))"
   ]
  },
  {
   "cell_type": "markdown",
   "id": "f8178b40",
   "metadata": {},
   "source": [
    "## 14. Find second smallest element in list"
   ]
  },
  {
   "cell_type": "code",
   "execution_count": 87,
   "id": "2b7830d0",
   "metadata": {},
   "outputs": [
    {
     "name": "stdout",
     "output_type": "stream",
     "text": [
      "3\n"
     ]
    }
   ],
   "source": [
    "def second_small(list):\n",
    "    first=list[0]\n",
    "    second = list[0]\n",
    "    for num in list:\n",
    "        if num<first:\n",
    "            first=num\n",
    "    for num in list:\n",
    "        if num!=first and num<second:\n",
    "            second=num\n",
    "    return second\n",
    "print(second_small([7,8,2,3,4,5]))"
   ]
  },
  {
   "cell_type": "markdown",
   "id": "d171c1a4",
   "metadata": {},
   "source": [
    "## 15. Find second largest element in list"
   ]
  },
  {
   "cell_type": "code",
   "execution_count": 89,
   "id": "2f94a13d",
   "metadata": {},
   "outputs": [
    {
     "name": "stdout",
     "output_type": "stream",
     "text": [
      "8\n"
     ]
    }
   ],
   "source": [
    "def second_large(list):\n",
    "    first=list[0]\n",
    "    second = list[0]\n",
    "    for num in list:\n",
    "        if num>first:\n",
    "            first=num\n",
    "    for num in list:\n",
    "        if num!=first and num>second:\n",
    "            second=num\n",
    "    return second\n",
    "print(second_large([7,8,2,3,4,5,9]))"
   ]
  },
  {
   "cell_type": "markdown",
   "id": "7c0cdfda",
   "metadata": {},
   "source": [
    "## 16. Frequency of element in a list"
   ]
  },
  {
   "cell_type": "code",
   "execution_count": 118,
   "id": "48b8e588",
   "metadata": {},
   "outputs": [
    {
     "name": "stdout",
     "output_type": "stream",
     "text": [
      "{'m': 1, 'i': 4, 's': 4, 'p': 2}\n"
     ]
    }
   ],
   "source": [
    "def frequency(list):\n",
    "    freq={}\n",
    "    for num in list:\n",
    "        if num in freq:\n",
    "            freq[num]=freq[num]+1\n",
    "        else:\n",
    "            freq[num]=1\n",
    "    return freq\n",
    "result=frequency(\"mississippi\")\n",
    "print(result)"
   ]
  },
  {
   "cell_type": "markdown",
   "id": "cca6ac0c",
   "metadata": {},
   "source": [
    "## 17. Find the missing number in a list starting from 1 to n"
   ]
  },
  {
   "cell_type": "code",
   "execution_count": 96,
   "id": "1c5619ac",
   "metadata": {},
   "outputs": [
    {
     "name": "stdout",
     "output_type": "stream",
     "text": [
      "5\n"
     ]
    }
   ],
   "source": [
    "def missing(list,n):\n",
    "    total=n*(n+1)//2\n",
    "    sum=0\n",
    "    for num in list:\n",
    "        sum=sum+num\n",
    "    mising_number=total-sum\n",
    "    return mising_number\n",
    "print(missing([1,2,3,4,6],6))"
   ]
  },
  {
   "cell_type": "markdown",
   "id": "fa2e6817",
   "metadata": {},
   "source": [
    "## 18. Check if two strings are anagram"
   ]
  },
  {
   "cell_type": "code",
   "execution_count": 101,
   "id": "c85187e3",
   "metadata": {},
   "outputs": [
    {
     "name": "stdout",
     "output_type": "stream",
     "text": [
      "True\n"
     ]
    }
   ],
   "source": [
    "def anagram(s1,s2):\n",
    "    if len(s1)!=len(s2):\n",
    "        return False\n",
    "    freq1={}\n",
    "    freq2={}\n",
    "    for char in s1:\n",
    "        if char in freq1:\n",
    "            freq1[char]+=1\n",
    "        else:\n",
    "            freq1[char]=1\n",
    "    for char in s2:\n",
    "        if char in freq2:\n",
    "            freq2[char]+=1\n",
    "        else:\n",
    "            freq2[char]=1\n",
    "    if freq1==freq2:\n",
    "        return True\n",
    "    else:\n",
    "        return False\n",
    "print(anagram(\"tihron\",\"rohitn\"))\n",
    "        "
   ]
  },
  {
   "cell_type": "markdown",
   "id": "0e5bb2b2",
   "metadata": {},
   "source": [
    "## 19. Remove duplicate elements from given list"
   ]
  },
  {
   "cell_type": "code",
   "execution_count": 103,
   "id": "45085367",
   "metadata": {},
   "outputs": [
    {
     "name": "stdout",
     "output_type": "stream",
     "text": [
      "[2, 3, 5, 6, 9]\n"
     ]
    }
   ],
   "source": [
    "def remove_dup(list):\n",
    "    uniq=[]\n",
    "    for num in list:\n",
    "        if num not in uniq:\n",
    "            uniq.append(num)\n",
    "    return uniq\n",
    "print(remove_dup([2,2,3,5,3,6,9,6]))"
   ]
  },
  {
   "cell_type": "markdown",
   "id": "958b249e",
   "metadata": {},
   "source": [
    "## 20. Count the number of words in a string:"
   ]
  },
  {
   "cell_type": "code",
   "execution_count": 4,
   "id": "c9219b6a",
   "metadata": {},
   "outputs": [
    {
     "name": "stdout",
     "output_type": "stream",
     "text": [
      "7\n"
     ]
    }
   ],
   "source": [
    "def count(s):\n",
    "    count=0\n",
    "    in_word=False\n",
    "    for char in s:\n",
    "        if char!=' ' and not in_word:\n",
    "            count+=1\n",
    "            in_word=True\n",
    "        elif char==' ':\n",
    "            in_word=False\n",
    "    return count\n",
    "print(count(\"Hello My name is Rohit Kumar !!!\"))"
   ]
  },
  {
   "cell_type": "markdown",
   "id": "48c98cb6",
   "metadata": {},
   "source": [
    "## 21. Find the union of two list"
   ]
  },
  {
   "cell_type": "code",
   "execution_count": 7,
   "id": "6e7d7979",
   "metadata": {},
   "outputs": [
    {
     "name": "stdout",
     "output_type": "stream",
     "text": [
      "[1, 2, 3, 4, 5, 6, 7, 8, 9, 0]\n"
     ]
    }
   ],
   "source": [
    "def find_union(l1,l2):\n",
    "    l=[]\n",
    "    for num in l1:\n",
    "        if num not in l:\n",
    "            l.append(num)\n",
    "    for num in l2:\n",
    "        if num not in l:\n",
    "            l.append(num)\n",
    "    return l\n",
    "print(find_union([1,2,3,4,5],[1,3,6,7,8,9,0]))"
   ]
  },
  {
   "cell_type": "markdown",
   "id": "1529c090",
   "metadata": {},
   "source": [
    "## 22. Find the intersection of two list"
   ]
  },
  {
   "cell_type": "code",
   "execution_count": 8,
   "id": "212a72c7",
   "metadata": {},
   "outputs": [
    {
     "name": "stdout",
     "output_type": "stream",
     "text": [
      "[3, 4, 5]\n"
     ]
    }
   ],
   "source": [
    "def find_intersection(arr1,arr2):\n",
    "    intersection=[]\n",
    "    for num1 in arr1:\n",
    "        for num2 in arr2:\n",
    "            if num1==num2:\n",
    "                intersection.append(num1)\n",
    "    return intersection\n",
    "print(find_intersection([1,2,3,4,5],[3,4,5,6,7,8,9]))"
   ]
  },
  {
   "cell_type": "markdown",
   "id": "7a0c6a85",
   "metadata": {},
   "source": [
    "## 22.1 Find the intersection of two list (optimised)"
   ]
  },
  {
   "cell_type": "code",
   "execution_count": 10,
   "id": "814bdabf",
   "metadata": {},
   "outputs": [
    {
     "name": "stdout",
     "output_type": "stream",
     "text": [
      "[3, 4, 5]\n"
     ]
    }
   ],
   "source": [
    "def find_intersection(arr1,arr2):\n",
    "    intersection=[]\n",
    "    for num in arr1:\n",
    "        if num not in intersection and num in arr2:\n",
    "            intersection.append(num)\n",
    "    return intersection\n",
    "print(find_intersection([1,2,3,4,5],[3,4,5,6,7,8,9]))"
   ]
  },
  {
   "cell_type": "markdown",
   "id": "da064958",
   "metadata": {},
   "source": [
    "## 23. Move All Zeros to the End of the List"
   ]
  },
  {
   "cell_type": "code",
   "execution_count": 11,
   "id": "fe597bc3",
   "metadata": {},
   "outputs": [
    {
     "name": "stdout",
     "output_type": "stream",
     "text": [
      "[2, 3, 5, 6, 8, 0, 0, 0, 0, 0]\n"
     ]
    }
   ],
   "source": [
    "def move_zero(arr):\n",
    "    result=[]\n",
    "    zero_count=0\n",
    "    for num in arr:\n",
    "        if num!=0:\n",
    "            result.append(num)\n",
    "        else:\n",
    "            zero_count+=1\n",
    "    result.extend([0]*zero_count)\n",
    "    return result\n",
    "print(move_zero([0,0,2,3,0,5,6,0,8,0]))"
   ]
  },
  {
   "cell_type": "markdown",
   "id": "9abb6d97",
   "metadata": {},
   "source": [
    "## 24. Move All Zeros to the Start of the List"
   ]
  },
  {
   "cell_type": "code",
   "execution_count": 13,
   "id": "d3a93c47",
   "metadata": {},
   "outputs": [
    {
     "name": "stdout",
     "output_type": "stream",
     "text": [
      "[0, 0, 0, 0, 0, 1, 2, 2, 3, 5, 6, 8]\n"
     ]
    }
   ],
   "source": [
    "def move_zero(arr):\n",
    "    result=[]\n",
    "    zero_count=0\n",
    "    for num in arr:\n",
    "        if num!=0:\n",
    "            result.append(num)\n",
    "        else:\n",
    "            zero_count+=1\n",
    "    return [0]*zero_count+result\n",
    "print(move_zero([1,2,0,0,2,3,0,5,6,0,8,0]))"
   ]
  },
  {
   "cell_type": "markdown",
   "id": "b438b44a",
   "metadata": {},
   "source": [
    "## 25. Rotate an Array to the Right by K Steps"
   ]
  },
  {
   "cell_type": "code",
   "execution_count": 17,
   "id": "edb6913a",
   "metadata": {},
   "outputs": [
    {
     "name": "stdout",
     "output_type": "stream",
     "text": [
      "[7, 8, 9, 1, 2, 3, 4, 5, 6]\n"
     ]
    }
   ],
   "source": [
    "def rotate(arr,k):\n",
    "    n=len(arr)\n",
    "    k=k%n\n",
    "    return arr[-k:]+arr[:-k]\n",
    "print(rotate([1,2,3,4,5,6,7,8,9],4))"
   ]
  },
  {
   "cell_type": "markdown",
   "id": "104b5dc4",
   "metadata": {},
   "source": [
    "## 26. Find the Longest Word in a Sentence"
   ]
  },
  {
   "cell_type": "code",
   "execution_count": 37,
   "id": "91ce7924",
   "metadata": {},
   "outputs": [
    {
     "name": "stdout",
     "output_type": "stream",
     "text": [
      "ROHITKUMAR\n"
     ]
    }
   ],
   "source": [
    "def longest_word(s):\n",
    "    max_word=\"\"\n",
    "    word=\"\"\n",
    "    for char in s + \" \":\n",
    "        if char!=\" \":\n",
    "            word+=char\n",
    "        else:\n",
    "            if len(word)>len(max_word):\n",
    "                max_word=word\n",
    "            word=\"\"\n",
    "    return max_word\n",
    "print(longest_word(\"Hello My name is ROHITKUMAR\"))"
   ]
  },
  {
   "cell_type": "markdown",
   "id": "62709724",
   "metadata": {},
   "source": [
    "## 27. Find the length of array"
   ]
  },
  {
   "cell_type": "code",
   "execution_count": 21,
   "id": "4ea3cea1",
   "metadata": {},
   "outputs": [
    {
     "name": "stdout",
     "output_type": "stream",
     "text": [
      "7\n"
     ]
    }
   ],
   "source": [
    "def find_len(arr):\n",
    "    length=0\n",
    "    for num in arr:\n",
    "        length=length+1\n",
    "    return length\n",
    "print(find_len([1,2,3,4,5,6,7]))"
   ]
  },
  {
   "cell_type": "markdown",
   "id": "fa63a1e6",
   "metadata": {},
   "source": [
    "## 28. Find the lenght of word"
   ]
  },
  {
   "cell_type": "code",
   "execution_count": 22,
   "id": "a3599366",
   "metadata": {},
   "outputs": [
    {
     "name": "stdout",
     "output_type": "stream",
     "text": [
      "10\n"
     ]
    }
   ],
   "source": [
    "def find_len(word):\n",
    "    len=0\n",
    "    for char in word:\n",
    "        len+=1\n",
    "    return len\n",
    "print(find_len(\"RohitKumar\"))"
   ]
  },
  {
   "cell_type": "markdown",
   "id": "38b80bd1",
   "metadata": {},
   "source": [
    "## 29. Find the length of sentence"
   ]
  },
  {
   "cell_type": "code",
   "execution_count": 25,
   "id": "d97b470f",
   "metadata": {},
   "outputs": [
    {
     "name": "stdout",
     "output_type": "stream",
     "text": [
      "23\n"
     ]
    }
   ],
   "source": [
    "def find_len(sentence):\n",
    "    len=0\n",
    "    for word in sentence:\n",
    "        if word!=' ':\n",
    "            len+=1\n",
    "    return len\n",
    "print(find_len(\"Hello My name is Rohit Kumar\"))"
   ]
  },
  {
   "cell_type": "markdown",
   "id": "f5d83828",
   "metadata": {},
   "source": [
    "## 30. Find the lenght of each word in a sentence"
   ]
  },
  {
   "cell_type": "code",
   "execution_count": 27,
   "id": "6e130791",
   "metadata": {},
   "outputs": [
    {
     "name": "stdout",
     "output_type": "stream",
     "text": [
      "[5, 2, 4, 2, 5, 5]\n"
     ]
    }
   ],
   "source": [
    "def find_len(sentence):\n",
    "    length=[]\n",
    "    count=0\n",
    "    for char in sentence + \" \":\n",
    "        if char!=\" \":\n",
    "            count+=1\n",
    "        else:\n",
    "            if count>0:\n",
    "                length.append(count)\n",
    "                count=0\n",
    "    return length\n",
    "print(find_len(\"Hello my name is Rohit kumar\"))"
   ]
  },
  {
   "cell_type": "markdown",
   "id": "fcc8ecfd",
   "metadata": {},
   "source": [
    "## 31. Find All Pairs That Sum to a Given Number"
   ]
  },
  {
   "cell_type": "code",
   "execution_count": 29,
   "id": "94be6440",
   "metadata": {},
   "outputs": [
    {
     "name": "stdout",
     "output_type": "stream",
     "text": [
      "[(5, 1), (4, 2), (3, 3)]\n"
     ]
    }
   ],
   "source": [
    "def sum_pair(arr,target):\n",
    "    seen=set()\n",
    "    pairs=[]\n",
    "    for num in arr:\n",
    "        diff=target-num\n",
    "        if diff not in seen:\n",
    "            pairs.append((diff,num))\n",
    "        seen.add(num)\n",
    "    return pairs\n",
    "print(sum_pair([1,2,3,3,4,5],6))\n",
    "        "
   ]
  },
  {
   "cell_type": "markdown",
   "id": "a3c483e2",
   "metadata": {},
   "source": [
    "## 32. Reverse an array"
   ]
  },
  {
   "cell_type": "code",
   "execution_count": 32,
   "id": "dd692d2f",
   "metadata": {},
   "outputs": [
    {
     "name": "stdout",
     "output_type": "stream",
     "text": [
      "[5, 4, 3, 2, 1]\n"
     ]
    }
   ],
   "source": [
    "def reverse_arr(arr):\n",
    "    rev_arr=[]\n",
    "    for i in range(len(arr)-1,-1,-1):\n",
    "        rev_arr.append(arr[i])\n",
    "    return rev_arr\n",
    "print(reverse_arr([1,2,3,4,5]))"
   ]
  },
  {
   "cell_type": "markdown",
   "id": "97264355",
   "metadata": {},
   "source": [
    "## 33. Linear Search\n"
   ]
  },
  {
   "cell_type": "code",
   "execution_count": 42,
   "id": "6a1b4e3c",
   "metadata": {},
   "outputs": [
    {
     "name": "stdout",
     "output_type": "stream",
     "text": [
      "5\n"
     ]
    }
   ],
   "source": [
    "def search(arr,target):\n",
    "    for i in range(len(arr)):\n",
    "        if arr[i]==target:\n",
    "            return i\n",
    "    return -1\n",
    "print(search([1,2,3,4,5,6],6))"
   ]
  },
  {
   "cell_type": "markdown",
   "id": "2f5e5fbe",
   "metadata": {},
   "source": [
    "## 34. Binary Search"
   ]
  },
  {
   "cell_type": "code",
   "execution_count": 50,
   "id": "27656d28",
   "metadata": {},
   "outputs": [
    {
     "name": "stdout",
     "output_type": "stream",
     "text": [
      "0\n"
     ]
    }
   ],
   "source": [
    "def binary_search(arr,target):\n",
    "    left=0\n",
    "    right=len(arr)-1\n",
    "    while left<=right:\n",
    "        mid=right//2\n",
    "        if arr[mid]==target:\n",
    "            return mid\n",
    "        elif arr[mid]<target:\n",
    "            left= mid+1\n",
    "        else:\n",
    "            right= mid-1\n",
    "    return -1\n",
    "print(binary_search([1,2,3,4,5,6,7,8,9],1))"
   ]
  },
  {
   "cell_type": "code",
   "execution_count": null,
   "id": "38083dca",
   "metadata": {},
   "outputs": [],
   "source": []
  }
 ],
 "metadata": {
  "kernelspec": {
   "display_name": "Python 3 (ipykernel)",
   "language": "python",
   "name": "python3"
  },
  "language_info": {
   "codemirror_mode": {
    "name": "ipython",
    "version": 3
   },
   "file_extension": ".py",
   "mimetype": "text/x-python",
   "name": "python",
   "nbconvert_exporter": "python",
   "pygments_lexer": "ipython3",
   "version": "3.9.13"
  }
 },
 "nbformat": 4,
 "nbformat_minor": 5
}
